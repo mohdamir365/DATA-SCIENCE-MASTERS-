{
 "cells": [
  {
   "cell_type": "markdown",
   "id": "c4a51126-d589-4bf8-972b-c5146e0a6dd7",
   "metadata": {},
   "source": [
    "# DAY 2"
   ]
  },
  {
   "cell_type": "code",
   "execution_count": 2,
   "id": "f92d8e1b-2b4e-4f06-b13b-ef40f39ec82b",
   "metadata": {},
   "outputs": [],
   "source": [
    "a=10\n",
    "# dynamic typing: compilers automatically understands it is integer, we dont have to define"
   ]
  },
  {
   "cell_type": "code",
   "execution_count": 3,
   "id": "b201f357-39d4-49e5-bb9a-bb9ff09b9893",
   "metadata": {},
   "outputs": [
    {
     "data": {
      "text/plain": [
       "10"
      ]
     },
     "execution_count": 3,
     "metadata": {},
     "output_type": "execute_result"
    }
   ],
   "source": [
    "a"
   ]
  },
  {
   "cell_type": "code",
   "execution_count": 4,
   "id": "24be7b96-7194-421d-bb89-9e1992db84d4",
   "metadata": {},
   "outputs": [
    {
     "data": {
      "text/plain": [
       "int"
      ]
     },
     "execution_count": 4,
     "metadata": {},
     "output_type": "execute_result"
    }
   ],
   "source": [
    "type(2)"
   ]
  },
  {
   "cell_type": "code",
   "execution_count": 5,
   "id": "71819603-7c14-4b59-b344-b95a46d28495",
   "metadata": {},
   "outputs": [],
   "source": [
    "a='c'"
   ]
  },
  {
   "cell_type": "code",
   "execution_count": 6,
   "id": "e4610046-cf4c-4b90-9fd4-2113765a139e",
   "metadata": {},
   "outputs": [
    {
     "data": {
      "text/plain": [
       "str"
      ]
     },
     "execution_count": 6,
     "metadata": {},
     "output_type": "execute_result"
    }
   ],
   "source": [
    "type(a)"
   ]
  },
  {
   "cell_type": "code",
   "execution_count": 7,
   "id": "f68ba168-25b3-42c7-b5ce-caf86322eebc",
   "metadata": {},
   "outputs": [
    {
     "data": {
      "text/plain": [
       "123"
      ]
     },
     "execution_count": 7,
     "metadata": {},
     "output_type": "execute_result"
    }
   ],
   "source": [
    "int('123')"
   ]
  },
  {
   "cell_type": "code",
   "execution_count": 1,
   "id": "cd92dd59-e387-430a-8b12-76c5109c09e4",
   "metadata": {},
   "outputs": [
    {
     "data": {
      "text/plain": [
       "12"
      ]
     },
     "execution_count": 1,
     "metadata": {},
     "output_type": "execute_result"
    }
   ],
   "source": [
    "int(12)"
   ]
  },
  {
   "cell_type": "code",
   "execution_count": 2,
   "id": "60cfc5bf-6322-49f4-a35c-76774611f6ea",
   "metadata": {},
   "outputs": [
    {
     "data": {
      "text/plain": [
       "str"
      ]
     },
     "execution_count": 2,
     "metadata": {},
     "output_type": "execute_result"
    }
   ],
   "source": [
    "type('123')"
   ]
  },
  {
   "cell_type": "code",
   "execution_count": 10,
   "id": "5a7f64f2-2e06-4255-a8b5-1b7be2f45fb7",
   "metadata": {},
   "outputs": [
    {
     "name": "stdout",
     "output_type": "stream",
     "text": [
      "Hello World\n"
     ]
    }
   ],
   "source": [
    "print(\"Hello World\")\n",
    "#string must be in quote ' ' \" \""
   ]
  },
  {
   "cell_type": "code",
   "execution_count": 13,
   "id": "4aa7bf30-1a46-40e3-b3ef-592975b447e7",
   "metadata": {},
   "outputs": [
    {
     "name": "stdout",
     "output_type": "stream",
     "text": [
      "My age is 28\n"
     ]
    }
   ],
   "source": [
    "age=28\n",
    "print('My age is',age)"
   ]
  },
  {
   "cell_type": "code",
   "execution_count": 15,
   "id": "6c93600a-315d-40b0-90b1-86922f2fb4bd",
   "metadata": {},
   "outputs": [
    {
     "name": "stdout",
     "output_type": "stream",
     "text": [
      "my age is: {age}\n"
     ]
    }
   ],
   "source": [
    "print('my age is: {age}')"
   ]
  },
  {
   "cell_type": "markdown",
   "id": "9a9024e0-db8c-453b-8a1a-f7c915c5d792",
   "metadata": {},
   "source": [
    "# F String"
   ]
  },
  {
   "cell_type": "code",
   "execution_count": 18,
   "id": "838c19d2-5ea0-465b-b65f-97983e421dba",
   "metadata": {},
   "outputs": [
    {
     "name": "stdout",
     "output_type": "stream",
     "text": [
      "my age is: 28\n"
     ]
    }
   ],
   "source": [
    "print(f'my age is: {age}')\n",
    "#f string used for formating.. if i want to call my variable inside the statement without commas"
   ]
  },
  {
   "cell_type": "markdown",
   "id": "fb9d83cc-d593-4654-a777-d2d57bc24b0b",
   "metadata": {},
   "source": [
    "# Format"
   ]
  },
  {
   "cell_type": "code",
   "execution_count": 24,
   "id": "9a4cc5af-331f-4277-879c-8e5b420c054e",
   "metadata": {},
   "outputs": [
    {
     "name": "stdout",
     "output_type": "stream",
     "text": [
      "My name is Amir and my age is 28\n"
     ]
    }
   ],
   "source": [
    "#format, use .format to print\n",
    "name=\"Amir\"\n",
    "age=28\n",
    "print(\"My name is {} and my age is {}\".format(name, age))"
   ]
  },
  {
   "cell_type": "code",
   "execution_count": 21,
   "id": "f8e23363-d466-4b0b-973f-c2b569b583e7",
   "metadata": {},
   "outputs": [
    {
     "name": "stdout",
     "output_type": "stream",
     "text": [
      "My name is 28 and my age is Amir\n"
     ]
    }
   ],
   "source": [
    "print(\"My name is {} and my age is {}\".format(age,name))"
   ]
  },
  {
   "cell_type": "code",
   "execution_count": 22,
   "id": "59be245b-c7e3-4e5c-9bfc-f235faee0454",
   "metadata": {},
   "outputs": [
    {
     "name": "stdout",
     "output_type": "stream",
     "text": [
      "My name is Amir and my age is 28\n"
     ]
    }
   ],
   "source": [
    "print(\"My name is {myname} and my age is {myage}\".format(myname=name, myage=age))"
   ]
  },
  {
   "cell_type": "code",
   "execution_count": 23,
   "id": "022238ff-983d-4525-98de-ecffcc0e0868",
   "metadata": {},
   "outputs": [
    {
     "name": "stdout",
     "output_type": "stream",
     "text": [
      "My name is Amir and my age is 28\n"
     ]
    }
   ],
   "source": [
    "print(\"My name is {myname} and my age is {myage}\".format( myage=age, myname=name))"
   ]
  },
  {
   "cell_type": "code",
   "execution_count": 26,
   "id": "6772f3f3-40f6-4395-a9b7-fe912123b896",
   "metadata": {},
   "outputs": [],
   "source": [
    "degree='MBA'"
   ]
  },
  {
   "cell_type": "code",
   "execution_count": 28,
   "id": "1a05683a-d8c2-4a26-b483-7b04609731c4",
   "metadata": {},
   "outputs": [
    {
     "name": "stdout",
     "output_type": "stream",
     "text": [
      "my degree is MBA\n"
     ]
    }
   ],
   "source": [
    "print(f\"my degree is {degree}\")"
   ]
  },
  {
   "cell_type": "code",
   "execution_count": 31,
   "id": "09a69244-1026-445f-9eeb-203af389f8d4",
   "metadata": {},
   "outputs": [
    {
     "name": "stdout",
     "output_type": "stream",
     "text": [
      "My name is Amir and my age is 28, I am pursuing my MBA\n"
     ]
    }
   ],
   "source": [
    "print(f\"My name is {name} and my age is {age}, I am pursuing my {degree}\")"
   ]
  },
  {
   "cell_type": "code",
   "execution_count": 35,
   "id": "b7a6ba8e-0cdc-4757-997c-45fbb03b0686",
   "metadata": {},
   "outputs": [
    {
     "name": "stdout",
     "output_type": "stream",
     "text": [
      "my name is Amir, my Age is 28 and I am pursuing MBA\n"
     ]
    }
   ],
   "source": [
    "print(\"my name is {}, my Age is {} and I am pursuing {}\".format(name,age,degree))"
   ]
  },
  {
   "cell_type": "markdown",
   "id": "205550b7-027e-4599-8805-60d3692803da",
   "metadata": {},
   "source": [
    "# control flow\n",
    "## decision making Statement"
   ]
  },
  {
   "cell_type": "code",
   "execution_count": 37,
   "id": "b46947a0-283f-4592-b5ca-22ef1b093732",
   "metadata": {},
   "outputs": [],
   "source": [
    "#if statement"
   ]
  },
  {
   "cell_type": "code",
   "execution_count": 41,
   "id": "88528e10-b615-4d3a-a67f-4c29c72fa44e",
   "metadata": {},
   "outputs": [
    {
     "name": "stdout",
     "output_type": "stream",
     "text": [
      "You can Vote\n"
     ]
    }
   ],
   "source": [
    "age=18\n",
    "# : indicates start of if block\n",
    "if age>=18:\n",
    "    print(\"You can Vote\")\n",
    "    "
   ]
  },
  {
   "cell_type": "code",
   "execution_count": null,
   "id": "5281df56-6fc8-4bbf-a682-6280564964ae",
   "metadata": {},
   "outputs": [],
   "source": []
  }
 ],
 "metadata": {
  "kernelspec": {
   "display_name": "Python 3 (ipykernel)",
   "language": "python",
   "name": "python3"
  },
  "language_info": {
   "codemirror_mode": {
    "name": "ipython",
    "version": 3
   },
   "file_extension": ".py",
   "mimetype": "text/x-python",
   "name": "python",
   "nbconvert_exporter": "python",
   "pygments_lexer": "ipython3",
   "version": "3.10.8"
  }
 },
 "nbformat": 4,
 "nbformat_minor": 5
}
