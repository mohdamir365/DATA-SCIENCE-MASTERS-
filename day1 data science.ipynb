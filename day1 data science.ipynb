{
 "cells": [
  {
   "cell_type": "code",
   "execution_count": null,
   "id": "ebeaf6a1-d816-4d1c-a207-d319b69e8ddc",
   "metadata": {},
   "outputs": [],
   "source": []
  },
  {
   "cell_type": "code",
   "execution_count": 3,
   "id": "6ccb5687-56ed-42ee-ada5-240b255b3126",
   "metadata": {},
   "outputs": [
    {
     "data": {
      "text/plain": [
       "2"
      ]
     },
     "execution_count": 3,
     "metadata": {},
     "output_type": "execute_result"
    }
   ],
   "source": [
    "1+1"
   ]
  },
  {
   "cell_type": "code",
   "execution_count": 4,
   "id": "35f93f94-014a-4723-b91d-146dff13d10a",
   "metadata": {},
   "outputs": [
    {
     "data": {
      "text/plain": [
       "10"
      ]
     },
     "execution_count": 4,
     "metadata": {},
     "output_type": "execute_result"
    }
   ],
   "source": [
    "a"
   ]
  },
  {
   "cell_type": "code",
   "execution_count": 5,
   "id": "00b07c97-0d38-4237-a08c-8d7f0c928b34",
   "metadata": {},
   "outputs": [
    {
     "data": {
      "text/plain": [
       "2"
      ]
     },
     "execution_count": 5,
     "metadata": {},
     "output_type": "execute_result"
    }
   ],
   "source": [
    "1+1"
   ]
  },
  {
   "cell_type": "code",
   "execution_count": 7,
   "id": "4d420829-5f95-40dd-a242-0d9e231f793a",
   "metadata": {},
   "outputs": [],
   "source": [
    "a=10"
   ]
  },
  {
   "cell_type": "code",
   "execution_count": 1,
   "id": "0419c4e5-f358-468c-8d69-94b204d61c42",
   "metadata": {},
   "outputs": [
    {
     "ename": "SyntaxError",
     "evalue": "unterminated string literal (detected at line 3) (3470607675.py, line 3)",
     "output_type": "error",
     "traceback": [
      "\u001b[0;36m  Cell \u001b[0;32mIn[1], line 3\u001b[0;36m\u001b[0m\n\u001b[0;31m    \"\"\"\"\u001b[0m\n\u001b[0m       ^\u001b[0m\n\u001b[0;31mSyntaxError\u001b[0m\u001b[0;31m:\u001b[0m unterminated string literal (detected at line 3)\n"
     ]
    }
   ],
   "source": [
    "\"\"\"\n",
    "multiline comment\n",
    "\"\"\"\""
   ]
  },
  {
   "cell_type": "code",
   "execution_count": 11,
   "id": "655a731a-a93a-49bc-b846-1f31feaf4859",
   "metadata": {},
   "outputs": [
    {
     "name": "stdout",
     "output_type": "stream",
     "text": [
      "20\n"
     ]
    }
   ],
   "source": [
    "##hello guys this is a function\n",
    "a=20\n",
    "print (a)"
   ]
  },
  {
   "cell_type": "code",
   "execution_count": 12,
   "id": "6048b72e-1547-427f-96fd-cffa4aa58d32",
   "metadata": {},
   "outputs": [
    {
     "data": {
      "text/plain": [
       "20"
      ]
     },
     "execution_count": 12,
     "metadata": {},
     "output_type": "execute_result"
    }
   ],
   "source": [
    "a"
   ]
  },
  {
   "cell_type": "code",
   "execution_count": null,
   "id": "37fb0853-ea6e-4446-9e48-f736616b0155",
   "metadata": {},
   "outputs": [],
   "source": [
    "# comment\n",
    "#for single line"
   ]
  },
  {
   "cell_type": "markdown",
   "id": "1656549d-99b7-47c6-9bc3-3d31dbba8a80",
   "metadata": {},
   "source": [
    "#hello"
   ]
  },
  {
   "cell_type": "markdown",
   "id": "252c9cb5-aea4-4804-a2fd-b6ab2cfdb17e",
   "metadata": {},
   "source": [
    "##hello2"
   ]
  },
  {
   "cell_type": "markdown",
   "id": "4a5b136d-c6a5-43f9-b00f-1955bbf8bf20",
   "metadata": {},
   "source": [
    "#HELLO"
   ]
  },
  {
   "cell_type": "markdown",
   "id": "00d3fd05-f4c9-4d7c-a421-e85ab5750276",
   "metadata": {},
   "source": [
    "# HELLO"
   ]
  },
  {
   "cell_type": "markdown",
   "id": "39dddc20-d1b7-4540-8936-81b33a4e0430",
   "metadata": {},
   "source": [
    "## HELLO"
   ]
  },
  {
   "cell_type": "code",
   "execution_count": 18,
   "id": "6dcb702b-6191-4aba-bf44-6559cb745679",
   "metadata": {},
   "outputs": [],
   "source": [
    "# USE SPACE BETWEEN # AND HEADING"
   ]
  },
  {
   "cell_type": "markdown",
   "id": "9100caba-a299-4159-b561-8c988a5ddcaa",
   "metadata": {},
   "source": [
    "# NUMBERS"
   ]
  },
  {
   "cell_type": "code",
   "execution_count": 19,
   "id": "6ba384ed-edf3-4eca-b2f1-72f2e551b0e2",
   "metadata": {},
   "outputs": [],
   "source": [
    "# ESC AND A BUTTON FOR CREATING CELL\n"
   ]
  },
  {
   "cell_type": "code",
   "execution_count": 20,
   "id": "811d4f8f-9ce3-49f4-8efd-b6fe330bdfc0",
   "metadata": {},
   "outputs": [
    {
     "data": {
      "text/plain": [
       "4"
      ]
     },
     "execution_count": 20,
     "metadata": {},
     "output_type": "execute_result"
    }
   ],
   "source": [
    "1+3"
   ]
  },
  {
   "cell_type": "code",
   "execution_count": 23,
   "id": "43f75d7e-6bba-4b06-b3e2-25ac98f159af",
   "metadata": {},
   "outputs": [
    {
     "name": "stdout",
     "output_type": "stream",
     "text": [
      "4\n"
     ]
    }
   ],
   "source": [
    "print(1+3)"
   ]
  },
  {
   "cell_type": "code",
   "execution_count": 24,
   "id": "d7fa0f05-8e4e-495f-b5f1-101b3cbb84ae",
   "metadata": {},
   "outputs": [],
   "source": [
    "# code only works in lower case, in my observation"
   ]
  },
  {
   "cell_type": "code",
   "execution_count": 25,
   "id": "3d6dc176-4819-498f-a886-553b6efb7e81",
   "metadata": {},
   "outputs": [
    {
     "name": "stdout",
     "output_type": "stream",
     "text": [
      "hello world\n"
     ]
    }
   ],
   "source": [
    "print(\"hello world\")"
   ]
  },
  {
   "cell_type": "code",
   "execution_count": null,
   "id": "894b27f5-d85d-451c-a361-676ec68a59b6",
   "metadata": {},
   "outputs": [],
   "source": [
    "#shift tab to see what function does in behind"
   ]
  },
  {
   "cell_type": "code",
   "execution_count": null,
   "id": "3792f748-f601-474e-9b56-ce308c2c1dc6",
   "metadata": {},
   "outputs": [],
   "source": []
  },
  {
   "cell_type": "code",
   "execution_count": 31,
   "id": "4fa2a535-597a-4b6f-9839-1b823e107817",
   "metadata": {},
   "outputs": [
    {
     "name": "stdout",
     "output_type": "stream",
     "text": [
      "hello \n",
      "  world\n"
     ]
    }
   ],
   "source": [
    "print(\"hello \\n  world\")"
   ]
  },
  {
   "cell_type": "code",
   "execution_count": null,
   "id": "ecf1ae99-435f-472c-a761-14ada171634e",
   "metadata": {},
   "outputs": [],
   "source": [
    "#use \\n for line"
   ]
  },
  {
   "cell_type": "markdown",
   "id": "74e75599-aa4d-4300-b57a-fa26e44a9dc3",
   "metadata": {},
   "source": [
    "# variavle assignment"
   ]
  },
  {
   "cell_type": "code",
   "execution_count": 34,
   "id": "dc607d96-e295-4c68-95ea-2906ec28e27a",
   "metadata": {},
   "outputs": [],
   "source": [
    "name=\"Amir\"\n",
    "College=\"JMI\""
   ]
  },
  {
   "cell_type": "code",
   "execution_count": 35,
   "id": "15e4a97b-9045-4c35-bc05-6f08707fa3ff",
   "metadata": {},
   "outputs": [
    {
     "data": {
      "text/plain": [
       "'Amir'"
      ]
     },
     "execution_count": 35,
     "metadata": {},
     "output_type": "execute_result"
    }
   ],
   "source": [
    "name"
   ]
  },
  {
   "cell_type": "code",
   "execution_count": 36,
   "id": "43e707a5-846c-4a3b-8e8b-951188efeaab",
   "metadata": {},
   "outputs": [],
   "source": [
    "#use double \" \" or ' ' for string"
   ]
  },
  {
   "cell_type": "code",
   "execution_count": 37,
   "id": "6c241598-6ad6-43c3-9387-c72a87ac90da",
   "metadata": {},
   "outputs": [
    {
     "data": {
      "text/plain": [
       "str"
      ]
     },
     "execution_count": 37,
     "metadata": {},
     "output_type": "execute_result"
    }
   ],
   "source": [
    "type(name)"
   ]
  },
  {
   "cell_type": "code",
   "execution_count": 44,
   "id": "f6f7c2c9-e972-458d-ba88-cc04ec0ffb91",
   "metadata": {},
   "outputs": [
    {
     "data": {
      "text/plain": [
       "int"
      ]
     },
     "execution_count": 44,
     "metadata": {},
     "output_type": "execute_result"
    }
   ],
   "source": [
    "type(number)"
   ]
  },
  {
   "cell_type": "code",
   "execution_count": 41,
   "id": "c434e8e5-5bf6-44cf-9c47-9b1ca1d4bfff",
   "metadata": {},
   "outputs": [],
   "source": [
    "number=20"
   ]
  },
  {
   "cell_type": "code",
   "execution_count": 42,
   "id": "789b54aa-3db8-47f0-ba43-84a9d3ee797f",
   "metadata": {},
   "outputs": [
    {
     "data": {
      "text/plain": [
       "20"
      ]
     },
     "execution_count": 42,
     "metadata": {},
     "output_type": "execute_result"
    }
   ],
   "source": [
    "number"
   ]
  },
  {
   "cell_type": "code",
   "execution_count": 45,
   "id": "cc79dd1a-80c8-4845-966f-0a49a1520c2d",
   "metadata": {},
   "outputs": [],
   "source": [
    "decimal_number=2.5"
   ]
  },
  {
   "cell_type": "code",
   "execution_count": 46,
   "id": "2518bfc4-1ad3-4e6c-8562-6766db8c7e76",
   "metadata": {},
   "outputs": [
    {
     "data": {
      "text/plain": [
       "2.5"
      ]
     },
     "execution_count": 46,
     "metadata": {},
     "output_type": "execute_result"
    }
   ],
   "source": [
    "decimal_number"
   ]
  },
  {
   "cell_type": "code",
   "execution_count": 47,
   "id": "5946f816-21ab-41ef-b0ce-19e63e92137d",
   "metadata": {},
   "outputs": [
    {
     "data": {
      "text/plain": [
       "float"
      ]
     },
     "execution_count": 47,
     "metadata": {},
     "output_type": "execute_result"
    }
   ],
   "source": [
    "type(decimal_number)"
   ]
  },
  {
   "cell_type": "code",
   "execution_count": 3,
   "id": "03ec220b-c039-4bdd-8b50-fc65678a3e90",
   "metadata": {},
   "outputs": [
    {
     "name": "stdout",
     "output_type": "stream",
     "text": [
      "<class 'int'>\n"
     ]
    }
   ],
   "source": [
    "print(type(5))"
   ]
  },
  {
   "cell_type": "code",
   "execution_count": 49,
   "id": "e51d3bc1-95ee-47d8-919d-1b465904d380",
   "metadata": {},
   "outputs": [
    {
     "name": "stdout",
     "output_type": "stream",
     "text": [
      "print\n"
     ]
    }
   ],
   "source": [
    "print('print')"
   ]
  },
  {
   "cell_type": "code",
   "execution_count": 4,
   "id": "e1e95e9a-162e-4f69-a5d4-10357806f8e4",
   "metadata": {},
   "outputs": [
    {
     "name": "stdout",
     "output_type": "stream",
     "text": [
      "<built-in function print>\n"
     ]
    }
   ],
   "source": [
    "print(print)"
   ]
  },
  {
   "cell_type": "code",
   "execution_count": 51,
   "id": "146f5b90-5502-4132-a988-a98e22a3e04b",
   "metadata": {},
   "outputs": [],
   "source": [
    "#bad way\n",
    "##dont start variable name with number\n",
    "1a"
   ]
  },
  {
   "cell_type": "code",
   "execution_count": 53,
   "id": "2f03ff1d-7cac-455b-b4ba-c4611a9bb43f",
   "metadata": {},
   "outputs": [
    {
     "name": "stdout",
     "output_type": "stream",
     "text": [
      "Jamia\n",
      "JMI\n"
     ]
    }
   ],
   "source": [
    "#variables are case sensitive\n",
    "company='Jamia'\n",
    "Company='JMI'\n",
    "print(company)\n",
    "print(Company)"
   ]
  },
  {
   "cell_type": "code",
   "execution_count": 54,
   "id": "d4d4ffc9-b6a1-4410-b26f-be169b3d21fa",
   "metadata": {},
   "outputs": [
    {
     "data": {
      "text/plain": [
       "'\\nint, float, len, complex, bool, return, yield\\n'"
      ]
     },
     "execution_count": 54,
     "metadata": {},
     "output_type": "execute_result"
    }
   ],
   "source": [
    "###reserve keyword\n",
    "'''\n",
    "int, float, len, complex, bool, return, yield\n",
    "'''"
   ]
  },
  {
   "cell_type": "code",
   "execution_count": 56,
   "id": "25168ed1-0777-4f86-9194-4a2374a593c0",
   "metadata": {},
   "outputs": [
    {
     "data": {
      "text/plain": [
       "True"
      ]
     },
     "execution_count": 56,
     "metadata": {},
     "output_type": "execute_result"
    }
   ],
   "source": [
    "True"
   ]
  },
  {
   "cell_type": "code",
   "execution_count": 57,
   "id": "afe6eb32-5ed0-4da0-bcbe-48b2f70c453f",
   "metadata": {},
   "outputs": [
    {
     "data": {
      "text/plain": [
       "False"
      ]
     },
     "execution_count": 57,
     "metadata": {},
     "output_type": "execute_result"
    }
   ],
   "source": [
    "True and False"
   ]
  },
  {
   "cell_type": "code",
   "execution_count": 58,
   "id": "17098d03-c864-4383-a813-f88c19cb5736",
   "metadata": {},
   "outputs": [
    {
     "data": {
      "text/plain": [
       "True"
      ]
     },
     "execution_count": 58,
     "metadata": {},
     "output_type": "execute_result"
    }
   ],
   "source": [
    "True or False"
   ]
  },
  {
   "cell_type": "code",
   "execution_count": 59,
   "id": "4fd83726-099b-4b39-9333-ea44b28fe978",
   "metadata": {},
   "outputs": [
    {
     "data": {
      "text/plain": [
       "True"
      ]
     },
     "execution_count": 59,
     "metadata": {},
     "output_type": "execute_result"
    }
   ],
   "source": [
    "not False"
   ]
  },
  {
   "cell_type": "code",
   "execution_count": 60,
   "id": "9a4d7e29-9fa9-44b0-8ca4-777d0770c8c6",
   "metadata": {},
   "outputs": [
    {
     "data": {
      "text/plain": [
       "bool"
      ]
     },
     "execution_count": 60,
     "metadata": {},
     "output_type": "execute_result"
    }
   ],
   "source": [
    "type(False)"
   ]
  },
  {
   "cell_type": "code",
   "execution_count": 61,
   "id": "b78c00ad-969d-4d21-b084-ae62c991aa99",
   "metadata": {},
   "outputs": [
    {
     "data": {
      "text/plain": [
       "False"
      ]
     },
     "execution_count": 61,
     "metadata": {},
     "output_type": "execute_result"
    }
   ],
   "source": [
    "bool(0)"
   ]
  },
  {
   "cell_type": "code",
   "execution_count": 62,
   "id": "ed6cba3c-8cd6-4e2f-bb30-d9e4a6d3e0a2",
   "metadata": {},
   "outputs": [
    {
     "data": {
      "text/plain": [
       "True"
      ]
     },
     "execution_count": 62,
     "metadata": {},
     "output_type": "execute_result"
    }
   ],
   "source": [
    "bool(1)"
   ]
  },
  {
   "cell_type": "code",
   "execution_count": 81,
   "id": "53ff069b-abac-46db-a72d-7af6dfb29b08",
   "metadata": {},
   "outputs": [],
   "source": [
    "#Type casting"
   ]
  },
  {
   "cell_type": "code",
   "execution_count": 9,
   "id": "b1e2fb6c-c0cb-49d7-ab37-b9abbb55e2bd",
   "metadata": {},
   "outputs": [
    {
     "ename": "SyntaxError",
     "evalue": "invalid syntax (1127248003.py, line 2)",
     "output_type": "error",
     "traceback": [
      "\u001b[0;36m  Cell \u001b[0;32mIn[9], line 2\u001b[0;36m\u001b[0m\n\u001b[0;31m    if bool(a)==True;\u001b[0m\n\u001b[0m                    ^\u001b[0m\n\u001b[0;31mSyntaxError\u001b[0m\u001b[0;31m:\u001b[0m invalid syntax\n"
     ]
    }
   ],
   "source": [
    "a=1\n",
    "if bool(a)==True;\n",
    "type(\"True\")"
   ]
  },
  {
   "cell_type": "code",
   "execution_count": 6,
   "id": "94c3da71-c74c-4529-81df-f92cf5f17828",
   "metadata": {},
   "outputs": [],
   "source": [
    "a=1"
   ]
  },
  {
   "cell_type": "code",
   "execution_count": null,
   "id": "2e92084f-c96c-4fcc-a565-b8894d0acf8e",
   "metadata": {},
   "outputs": [],
   "source": []
  },
  {
   "cell_type": "code",
   "execution_count": null,
   "id": "c97bcdbe-2b3e-40f6-8b98-3e94633c4c2c",
   "metadata": {},
   "outputs": [],
   "source": []
  },
  {
   "cell_type": "code",
   "execution_count": 66,
   "id": "bb174871-4878-417e-9c8a-3762fcb9a081",
   "metadata": {},
   "outputs": [
    {
     "data": {
      "text/plain": [
       "1"
      ]
     },
     "execution_count": 66,
     "metadata": {},
     "output_type": "execute_result"
    }
   ],
   "source": [
    "int(1.5)"
   ]
  },
  {
   "cell_type": "markdown",
   "id": "9c2738cf-07f8-45f6-ae5a-05be1dd7d918",
   "metadata": {},
   "source": [
    "# Dyanmic Typing"
   ]
  },
  {
   "cell_type": "code",
   "execution_count": null,
   "id": "113ed8fb-a6e1-4755-bbef-11588f43e460",
   "metadata": {},
   "outputs": [],
   "source": []
  },
  {
   "cell_type": "code",
   "execution_count": 67,
   "id": "a5e0e1a3-312b-4011-a867-573ba8e624cc",
   "metadata": {},
   "outputs": [],
   "source": [
    "## concactionation between different types"
   ]
  },
  {
   "cell_type": "code",
   "execution_count": 80,
   "id": "0fc1e00a-a925-4b1d-834a-6b47dba31adf",
   "metadata": {},
   "outputs": [
    {
     "data": {
      "text/plain": [
       "'11'"
      ]
     },
     "execution_count": 80,
     "metadata": {},
     "output_type": "execute_result"
    }
   ],
   "source": [
    "\"1\"+\"1\""
   ]
  },
  {
   "cell_type": "code",
   "execution_count": 75,
   "id": "5aef5e00-0a6b-48b3-96be-843b56ab5242",
   "metadata": {},
   "outputs": [
    {
     "data": {
      "text/plain": [
       "'1'"
      ]
     },
     "execution_count": 75,
     "metadata": {},
     "output_type": "execute_result"
    }
   ],
   "source": [
    "\"1\"* int(\"1\")"
   ]
  },
  {
   "cell_type": "code",
   "execution_count": 77,
   "id": "adbdd1d4-a840-4a72-8671-e9363826f887",
   "metadata": {},
   "outputs": [
    {
     "data": {
      "text/plain": [
       "2"
      ]
     },
     "execution_count": 77,
     "metadata": {},
     "output_type": "execute_result"
    }
   ],
   "source": [
    "int(\"1\") + int(\"1\")"
   ]
  },
  {
   "cell_type": "code",
   "execution_count": 72,
   "id": "712023b7-b232-4320-8e6b-f0e7438e5234",
   "metadata": {},
   "outputs": [
    {
     "data": {
      "text/plain": [
       "'11111111111111111111111'"
      ]
     },
     "execution_count": 72,
     "metadata": {},
     "output_type": "execute_result"
    }
   ],
   "source": [
    "\"1\" * 23"
   ]
  },
  {
   "cell_type": "code",
   "execution_count": 78,
   "id": "355fcdf4-3bbd-45e6-a3cc-d582e8d8c8ca",
   "metadata": {},
   "outputs": [
    {
     "data": {
      "text/plain": [
       "True"
      ]
     },
     "execution_count": 78,
     "metadata": {},
     "output_type": "execute_result"
    }
   ],
   "source": [
    "bool(2)"
   ]
  },
  {
   "cell_type": "code",
   "execution_count": 79,
   "id": "5876117b-011b-4b48-ad6c-bcf901b0bc84",
   "metadata": {},
   "outputs": [
    {
     "data": {
      "text/plain": [
       "True"
      ]
     },
     "execution_count": 79,
     "metadata": {},
     "output_type": "execute_result"
    }
   ],
   "source": [
    "bool(-1)"
   ]
  },
  {
   "cell_type": "code",
   "execution_count": null,
   "id": "5872da13-6815-4fa9-9d8e-402e56194fd2",
   "metadata": {},
   "outputs": [],
   "source": []
  }
 ],
 "metadata": {
  "kernelspec": {
   "display_name": "Python 3 (ipykernel)",
   "language": "python",
   "name": "python3"
  },
  "language_info": {
   "codemirror_mode": {
    "name": "ipython",
    "version": 3
   },
   "file_extension": ".py",
   "mimetype": "text/x-python",
   "name": "python",
   "nbconvert_exporter": "python",
   "pygments_lexer": "ipython3",
   "version": "3.10.8"
  }
 },
 "nbformat": 4,
 "nbformat_minor": 5
}
