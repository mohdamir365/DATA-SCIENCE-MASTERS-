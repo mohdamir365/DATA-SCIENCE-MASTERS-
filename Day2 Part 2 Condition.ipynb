{
 "cells": [
  {
   "cell_type": "code",
   "execution_count": 7,
   "id": "5635bea9-9291-4a33-893c-4e64d379b53a",
   "metadata": {},
   "outputs": [],
   "source": [
    "age=23"
   ]
  },
  {
   "cell_type": "code",
   "execution_count": 15,
   "id": "224bc15f-bb68-4b1e-aa50-6b6b0d78ac87",
   "metadata": {},
   "outputs": [
    {
     "name": "stdin",
     "output_type": "stream",
     "text": [
      "enter your age 33\n"
     ]
    }
   ],
   "source": [
    "age=int(input(\"enter your age\"))"
   ]
  },
  {
   "cell_type": "code",
   "execution_count": 16,
   "id": "16750500-146a-49b5-a642-cc070287bf9e",
   "metadata": {},
   "outputs": [
    {
     "data": {
      "text/plain": [
       "33"
      ]
     },
     "execution_count": 16,
     "metadata": {},
     "output_type": "execute_result"
    }
   ],
   "source": [
    "age"
   ]
  },
  {
   "cell_type": "code",
   "execution_count": 18,
   "id": "b099b964-6adf-4e47-a7d3-a42de38648ec",
   "metadata": {},
   "outputs": [
    {
     "name": "stdout",
     "output_type": "stream",
     "text": [
      "you are young blood\n"
     ]
    }
   ],
   "source": [
    "if age>=18 and age<=45:\n",
    "    print(\"you are young blood\")"
   ]
  },
  {
   "cell_type": "code",
   "execution_count": 20,
   "id": "d6e8ce53-71a4-490b-ab15-f86da620fc67",
   "metadata": {},
   "outputs": [
    {
     "name": "stdin",
     "output_type": "stream",
     "text": [
      "enter your age 56\n"
     ]
    }
   ],
   "source": [
    "age=int(input(\"enter your age\"))\n",
    "if age>=18 and age<=45:\n",
    "    print(\"you are young blood\")"
   ]
  },
  {
   "cell_type": "code",
   "execution_count": null,
   "id": "d7bd7add-09d9-43a9-9d0b-d76d53f0d43f",
   "metadata": {},
   "outputs": [],
   "source": [
    "# if else statement"
   ]
  },
  {
   "cell_type": "code",
   "execution_count": 22,
   "id": "aa71a816-55ab-4b3d-b988-e7d30620a29e",
   "metadata": {},
   "outputs": [
    {
     "name": "stdin",
     "output_type": "stream",
     "text": [
      "enter your age 17\n"
     ]
    },
    {
     "name": "stdout",
     "output_type": "stream",
     "text": [
      "Thank You, We will let you know\n"
     ]
    }
   ],
   "source": [
    "age=int(input(\"enter your age\"))\n",
    "if age>=18 and age<=45:\n",
    "    print(\"you are young blood\")\n",
    "else:\n",
    "    print(\"Thank You, We will let you know\")"
   ]
  },
  {
   "cell_type": "markdown",
   "id": "5989eaf3-f0db-4c28-ae53-709ae69d2dbd",
   "metadata": {},
   "source": [
    "# IF ELSE"
   ]
  },
  {
   "cell_type": "code",
   "execution_count": null,
   "id": "a3971243-f77b-46d8-9ed4-8b5886cded58",
   "metadata": {},
   "outputs": [],
   "source": [
    "# money >1000 10% discount\n",
    "\n",
    "# mall- input product price\n",
    "# if price >1000 discount 10\n",
    "#if price is less than 100  then 30 % discount\n",
    "### print price after discount"
   ]
  },
  {
   "cell_type": "code",
   "execution_count": 34,
   "id": "7070c893-4dae-42df-9e69-6c7d9e744f36",
   "metadata": {},
   "outputs": [
    {
     "name": "stdin",
     "output_type": "stream",
     "text": [
      "enter the price 1600\n"
     ]
    },
    {
     "name": "stdout",
     "output_type": "stream",
     "text": [
      "price after discount= 1280.0\n"
     ]
    }
   ],
   "source": [
    "price=int(input(\"enter the price\"))\n",
    "if price>=1000:\n",
    "    print('price after discount=', price* float(0.8))\n",
    "else:\n",
    "    print('price after discount', price* float(0.7))"
   ]
  },
  {
   "cell_type": "code",
   "execution_count": 37,
   "id": "6bb0a253-db24-44bc-94e5-478fec9d31da",
   "metadata": {},
   "outputs": [
    {
     "name": "stdin",
     "output_type": "stream",
     "text": [
      "enter the price 18000\n"
     ]
    },
    {
     "name": "stdout",
     "output_type": "stream",
     "text": [
      "price after discount is 14400.0\n"
     ]
    }
   ],
   "source": [
    "price=int(input(\"enter the price\"))\n",
    "if price>=1000:\n",
    "    print(\"price after discount is {}\".format(price* float(0.8)))\n",
    "else:\n",
    "    print('price after discount', price* float(0.7))"
   ]
  },
  {
   "cell_type": "markdown",
   "id": "68cdaa0b-0691-4e56-87cb-1deeebe048a7",
   "metadata": {},
   "source": [
    "# elif"
   ]
  },
  {
   "cell_type": "code",
   "execution_count": 38,
   "id": "cfff1cb8-e28b-4976-b8ee-800b36edd458",
   "metadata": {},
   "outputs": [
    {
     "data": {
      "text/plain": [
       "13"
      ]
     },
     "execution_count": 38,
     "metadata": {},
     "output_type": "execute_result"
    }
   ],
   "source": [
    "10+3"
   ]
  },
  {
   "cell_type": "code",
   "execution_count": null,
   "id": "d78534ef-67ed-4cf3-9bae-6a51314aa767",
   "metadata": {},
   "outputs": [],
   "source": []
  },
  {
   "cell_type": "code",
   "execution_count": null,
   "id": "2e070891-5a29-4526-8ccb-1fa021381582",
   "metadata": {},
   "outputs": [],
   "source": []
  },
  {
   "cell_type": "code",
   "execution_count": null,
   "id": "6c06ae2b-5ab8-4ab8-aa1f-1bc76bfb3505",
   "metadata": {},
   "outputs": [],
   "source": []
  },
  {
   "cell_type": "markdown",
   "id": "14d61f38-749e-4a0c-a271-dde13f8a901a",
   "metadata": {},
   "source": [
    "# LOOP\n",
    "## while\n",
    "## for\n",
    "## nested \n",
    "## loop control (break, continue pass)"
   ]
  },
  {
   "cell_type": "markdown",
   "id": "c3eb8089-a8ca-4c4e-91ad-5dcbaaa36779",
   "metadata": {},
   "source": [
    "### while loop"
   ]
  },
  {
   "cell_type": "code",
   "execution_count": 55,
   "id": "ef0e2743-997f-4c07-820c-62ff1f510e87",
   "metadata": {},
   "outputs": [
    {
     "name": "stdout",
     "output_type": "stream",
     "text": [
      "23\n",
      "24\n",
      "25\n",
      "26\n",
      "27\n",
      "28\n",
      "29\n",
      "30\n",
      "31\n",
      "32\n",
      "33\n",
      "34\n",
      "35\n",
      "36\n",
      "37\n",
      "38\n",
      "39\n",
      "40\n",
      "41\n",
      "42\n",
      "43\n",
      "44\n",
      "45\n",
      "46\n",
      "47\n",
      "48\n",
      "49\n",
      "50\n",
      "51\n",
      "52\n",
      "53\n",
      "54\n",
      "55\n",
      "56\n",
      "57\n",
      "58\n",
      "59\n",
      "60\n",
      "its time to retire\n"
     ]
    }
   ],
   "source": [
    "# while age\n",
    "joining_age=23\n",
    "while joining_age<=60:\n",
    "    print(joining_age)\n",
    "    joining_age=joining_age+1\n",
    "    \n",
    "else:\n",
    "    print(\"its time to retire\")\n",
    "    \n",
    "#if print command was given after the iteration would have print 61 too"
   ]
  },
  {
   "cell_type": "code",
   "execution_count": 56,
   "id": "3396ef5d-fced-428d-9576-668b16c81214",
   "metadata": {},
   "outputs": [
    {
     "name": "stdout",
     "output_type": "stream",
     "text": [
      "1000\n",
      "900\n",
      "800\n",
      "700\n",
      "600\n",
      "500\n",
      "400\n",
      "300\n",
      "200\n",
      "100\n"
     ]
    }
   ],
   "source": [
    "#### ATM MACHINE with 100 Rs\n",
    "total_amount=1000\n",
    "while total_amount!=0:\n",
    "    print(total_amount)\n",
    "    total_amount=total_amount-100\n"
   ]
  },
  {
   "cell_type": "code",
   "execution_count": 60,
   "id": "a2060760-28ac-4bbb-8487-2ae7b4958646",
   "metadata": {},
   "outputs": [
    {
     "name": "stdout",
     "output_type": "stream",
     "text": [
      "1000\n",
      "900\n",
      "800\n",
      "700\n",
      "600\n",
      "500\n",
      "400\n",
      "300\n",
      "200\n",
      "100\n",
      "Sending request to Bank to re fill....\n"
     ]
    }
   ],
   "source": [
    "total_amount=1000\n",
    "while total_amount!=0:\n",
    "    print(total_amount)\n",
    "    total_amount=total_amount-100\n",
    "else:\n",
    "    print(\"Sending request to Bank to re fill....\")"
   ]
  },
  {
   "cell_type": "markdown",
   "id": "7d2fddde-392d-41f1-9932-706a58aed862",
   "metadata": {},
   "source": [
    "## for loop"
   ]
  },
  {
   "cell_type": "code",
   "execution_count": 62,
   "id": "c0018414-96ec-4b72-9c9b-b9ea1f9cb8ef",
   "metadata": {},
   "outputs": [],
   "source": [
    "lst=[\"AMir\",2,5,2,9,0,\"Mobile\",\"laptop\",\"Gurgaon\"]"
   ]
  },
  {
   "cell_type": "code",
   "execution_count": 63,
   "id": "38626e52-c57b-4a15-8e8b-9ed9a3532142",
   "metadata": {},
   "outputs": [
    {
     "data": {
      "text/plain": [
       "'AMir'"
      ]
     },
     "execution_count": 63,
     "metadata": {},
     "output_type": "execute_result"
    }
   ],
   "source": [
    "lst[0]"
   ]
  },
  {
   "cell_type": "code",
   "execution_count": 64,
   "id": "47599b3a-553f-463b-8982-1006067dd635",
   "metadata": {},
   "outputs": [
    {
     "data": {
      "text/plain": [
       "['AMir', 2, 5, 2, 9, 0, 'Mobile', 'laptop', 'Gurgaon']"
      ]
     },
     "execution_count": 64,
     "metadata": {},
     "output_type": "execute_result"
    }
   ],
   "source": [
    "lst"
   ]
  },
  {
   "cell_type": "code",
   "execution_count": 68,
   "id": "d95b27fd-2ca2-4b19-91e0-cc1bb6092991",
   "metadata": {},
   "outputs": [
    {
     "name": "stdout",
     "output_type": "stream",
     "text": [
      "AMir\n",
      "2\n",
      "5\n",
      "2\n",
      "9\n",
      "0\n",
      "Mobile\n",
      "laptop\n",
      "Gurgaon\n"
     ]
    }
   ],
   "source": [
    "for x in lst:\n",
    "    print(x)\n",
    "    \n",
    "#for a temporary variable and a collection"
   ]
  },
  {
   "cell_type": "code",
   "execution_count": 71,
   "id": "952e0bc9-88a1-4adc-9d32-74b90cefbefe",
   "metadata": {},
   "outputs": [],
   "source": [
    "fruit_list=[\"cherry\",\"mango\",\"strawberry\",\"Apple\",\"watermelon\",'munsk melon']"
   ]
  },
  {
   "cell_type": "code",
   "execution_count": 72,
   "id": "ad6e2e72-97f5-4773-b2d8-afb64ab5c56d",
   "metadata": {},
   "outputs": [
    {
     "data": {
      "text/plain": [
       "['cherry', 'mango', 'strawberry', 'Apple', 'watermelon', 'munsk melon']"
      ]
     },
     "execution_count": 72,
     "metadata": {},
     "output_type": "execute_result"
    }
   ],
   "source": [
    "fruit_list"
   ]
  },
  {
   "cell_type": "code",
   "execution_count": 77,
   "id": "efde7740-7e81-493e-948c-90065006664a",
   "metadata": {},
   "outputs": [
    {
     "name": "stdout",
     "output_type": "stream",
     "text": [
      "cherry\n",
      "the fruit is cherry\n",
      "mango\n",
      "the fruit is mango\n",
      "King of the fruits\n",
      "strawberry\n",
      "the fruit is strawberry\n",
      "Apple\n",
      "the fruit is Apple\n",
      "watermelon\n",
      "the fruit is watermelon\n",
      "munsk melon\n",
      "the fruit is munsk melon\n"
     ]
    }
   ],
   "source": [
    "for a in fruit_list:\n",
    "    print(a)\n",
    "    print(\"the fruit is {}\".format(a))\n",
    "    if a==\"mango\":\n",
    "        print('King of the fruits')"
   ]
  },
  {
   "cell_type": "code",
   "execution_count": 79,
   "id": "cbb25b2f-511d-405c-9ac4-b1dd7d7cadba",
   "metadata": {},
   "outputs": [
    {
     "name": "stdout",
     "output_type": "stream",
     "text": [
      "King of the fruits\n"
     ]
    }
   ],
   "source": [
    "for a in fruit_list:\n",
    "    if a==\"mango\":\n",
    "        print('King of the fruits')\n",
    "        "
   ]
  },
  {
   "cell_type": "code",
   "execution_count": 80,
   "id": "3a07179f-3596-4221-a687-02ff6be66a53",
   "metadata": {},
   "outputs": [
    {
     "name": "stdout",
     "output_type": "stream",
     "text": [
      "M\n",
      "A\n",
      "N\n",
      "G\n",
      "O\n"
     ]
    }
   ],
   "source": [
    "fruit='MANGO'\n",
    "for x in fruit:\n",
    "    print(x)"
   ]
  },
  {
   "cell_type": "code",
   "execution_count": 82,
   "id": "cb611675-37a1-4902-ab6d-d778e4e55437",
   "metadata": {},
   "outputs": [
    {
     "data": {
      "text/plain": [
       "'N'"
      ]
     },
     "execution_count": 82,
     "metadata": {},
     "output_type": "execute_result"
    }
   ],
   "source": [
    "fruit[2]"
   ]
  },
  {
   "cell_type": "code",
   "execution_count": 86,
   "id": "354c9048-8dfb-447a-aa7d-f6ad0e92ee91",
   "metadata": {},
   "outputs": [
    {
     "name": "stdout",
     "output_type": "stream",
     "text": [
      "M,A,N,G,O,"
     ]
    }
   ],
   "source": [
    "fruit='MANGO'\n",
    "for x in fruit:\n",
    "    print(x,end=',')\n",
    "    \n",
    "# to print in the same line use end='' if you need commas then put a comma in between end=','"
   ]
  },
  {
   "cell_type": "markdown",
   "id": "de1c1166-c531-4e11-92ad-0e430d4420d8",
   "metadata": {},
   "source": [
    "## Nested Loop"
   ]
  },
  {
   "cell_type": "code",
   "execution_count": 87,
   "id": "b052b2d0-cb0e-4af9-abf6-0ad73fe382cd",
   "metadata": {},
   "outputs": [
    {
     "name": "stdout",
     "output_type": "stream",
     "text": [
      "1,2,3,4,5,6,7,8,9,10,11,12,13,14,15,16,17,18,19,20,21,22,23,24,25,26,27,28,29,30,31,32,33,34,35,36,37,38,39,40,41,42,43,44,45,46,47,48,49,"
     ]
    }
   ],
   "source": [
    "n=7\n",
    "for i in range(1,50):\n",
    "    print (i,end=\",\")"
   ]
  },
  {
   "cell_type": "code",
   "execution_count": 88,
   "id": "9ec28886-87e8-4c13-8262-d8eedf1fb433",
   "metadata": {},
   "outputs": [
    {
     "name": "stdout",
     "output_type": "stream",
     "text": [
      "1,6,11,16,21,26,31,36,41,46,"
     ]
    }
   ],
   "source": [
    "for i in range(1,50,5):\n",
    "    print (i,end=\",\")\n",
    "#step size of 5, you can create AP with it."
   ]
  },
  {
   "cell_type": "code",
   "execution_count": 99,
   "id": "77cc826f-0d8c-42e4-a469-af80e04a5d07",
   "metadata": {},
   "outputs": [
    {
     "name": "stdout",
     "output_type": "stream",
     "text": [
      "*\n",
      "**\n",
      "***\n",
      "****\n",
      "*****\n",
      "******\n",
      "*******\n"
     ]
    }
   ],
   "source": [
    "for i in range(0,n):\n",
    "    for j in range(0,i+1):\n",
    "        print(\"*\",end='')\n",
    "    print(\"\\r\")\n",
    "    "
   ]
  },
  {
   "cell_type": "markdown",
   "id": "7482e6c5-47e4-4631-8464-20f5c2f624d1",
   "metadata": {},
   "source": [
    "# Loop controls\n",
    "## break and continue"
   ]
  },
  {
   "cell_type": "code",
   "execution_count": 101,
   "id": "e556d5a3-0ddd-43b2-a64e-7a9175b1a792",
   "metadata": {},
   "outputs": [
    {
     "name": "stdout",
     "output_type": "stream",
     "text": [
      "cherry\n",
      "mango\n",
      "strawberry\n",
      "The fruit is Apple\n"
     ]
    }
   ],
   "source": [
    "for i in fruit_list:\n",
    "    if i==\"Apple\":\n",
    "        print(\"The fruit is Apple\")\n",
    "        break\n",
    "    print(i)\n",
    "    \n",
    "# to stop the loop"
   ]
  },
  {
   "cell_type": "code",
   "execution_count": 102,
   "id": "dfa8ca6f-3dda-418b-b839-6e5c8f8ac0db",
   "metadata": {},
   "outputs": [
    {
     "name": "stdout",
     "output_type": "stream",
     "text": [
      "cherry\n",
      "mango\n",
      "strawberry\n",
      "The fruit is Apple\n",
      "Apple\n",
      "watermelon\n",
      "munsk melon\n"
     ]
    }
   ],
   "source": [
    "for i in fruit_list:\n",
    "    if i==\"Apple\":\n",
    "        print(\"The fruit is Apple\")\n",
    "        pass\n",
    "    print(i)"
   ]
  },
  {
   "cell_type": "code",
   "execution_count": 103,
   "id": "38d5dd33-a545-483f-a90d-69c570fc271a",
   "metadata": {},
   "outputs": [
    {
     "name": "stdout",
     "output_type": "stream",
     "text": [
      "cherry\n",
      "mango\n",
      "strawberry\n",
      "The fruit is Apple\n",
      "watermelon\n",
      "munsk melon\n"
     ]
    }
   ],
   "source": [
    "for i in fruit_list:\n",
    "    if i==\"Apple\":\n",
    "        print(\"The fruit is Apple\")\n",
    "        continue\n",
    "    print(i)\n",
    "    \n",
    "# to skip the loop for once"
   ]
  },
  {
   "cell_type": "code",
   "execution_count": null,
   "id": "2698f108-035b-465f-8570-41f674ca1cf8",
   "metadata": {},
   "outputs": [],
   "source": []
  },
  {
   "cell_type": "code",
   "execution_count": null,
   "id": "b70bcc51-75af-49dd-932e-819335f7d109",
   "metadata": {},
   "outputs": [],
   "source": []
  },
  {
   "cell_type": "code",
   "execution_count": null,
   "id": "cdc79f2a-c87a-4103-9c87-136b8c37fda0",
   "metadata": {},
   "outputs": [],
   "source": []
  },
  {
   "cell_type": "code",
   "execution_count": null,
   "id": "dbfb4926-3187-44c3-93e3-f4c55f549d41",
   "metadata": {},
   "outputs": [],
   "source": []
  },
  {
   "cell_type": "code",
   "execution_count": null,
   "id": "b5f697be-7533-4699-a141-5cbf762fc777",
   "metadata": {},
   "outputs": [],
   "source": []
  },
  {
   "cell_type": "code",
   "execution_count": null,
   "id": "576b11bf-bef9-4d59-97f7-4bbc8395be66",
   "metadata": {},
   "outputs": [],
   "source": []
  }
 ],
 "metadata": {
  "kernelspec": {
   "display_name": "Python 3 (ipykernel)",
   "language": "python",
   "name": "python3"
  },
  "language_info": {
   "codemirror_mode": {
    "name": "ipython",
    "version": 3
   },
   "file_extension": ".py",
   "mimetype": "text/x-python",
   "name": "python",
   "nbconvert_exporter": "python",
   "pygments_lexer": "ipython3",
   "version": "3.10.8"
  }
 },
 "nbformat": 4,
 "nbformat_minor": 5
}
